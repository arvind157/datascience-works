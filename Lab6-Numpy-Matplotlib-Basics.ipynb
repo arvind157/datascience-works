{
 "cells": [
  {
   "cell_type": "code",
   "execution_count": 6,
   "metadata": {},
   "outputs": [
    {
     "name": "stdout",
     "output_type": "stream",
     "text": [
      "(2, 3)\n",
      "[0 1 2 3 4 5 6 7 8 9]\n",
      "0\n",
      "1\n"
     ]
    }
   ],
   "source": [
    "#NUMPY basics\n",
    "\n",
    "import numpy as np \n",
    "a = np.array([[1,2,3],[4,5,6]]) \n",
    "print(a.shape)\n",
    "b=np.arange(10)\n",
    "print(b)\n",
    "print(b[0])\n",
    "print(b[1])\n"
   ]
  },
  {
   "cell_type": "code",
   "execution_count": 7,
   "metadata": {},
   "outputs": [
    {
     "name": "stdout",
     "output_type": "stream",
     "text": [
      "Our array is:\n",
      "[[3 7 5]\n",
      " [8 4 3]\n",
      " [2 4 9]]\n",
      "Applying amin() function:\n",
      "[3 3 2]\n",
      "Applying amin() function again:\n",
      "[2 4 3]\n",
      "Applying amax() function:\n",
      "9\n",
      "Applying amax() function again:\n",
      "[8 7 9]\n"
     ]
    }
   ],
   "source": [
    "import numpy as np \n",
    "a = np.array([[3,7,5],[8,4,3],[2,4,9]]) \n",
    "\n",
    "print('Our array is:') \n",
    "print(a)\n",
    "\n",
    "print('Applying amin() function:') \n",
    "print(np.amin(a,1))\n",
    "print('Applying amin() function again:' )\n",
    "print(np.amin(a,0)) \n",
    "\n",
    "print('Applying amax() function:') \n",
    "print(np.amax(a)) \n",
    "\n",
    "print('Applying amax() function again:') \n",
    "print(np.amax(a, axis = 0))"
   ]
  },
  {
   "cell_type": "code",
   "execution_count": 8,
   "metadata": {},
   "outputs": [
    {
     "name": "stdout",
     "output_type": "stream",
     "text": [
      "[1.+0.j 2.+0.j 3.+0.j]\n",
      "[10 12 14 16 18]\n",
      "[   2.    4.    8.   16.   32.   64.  128.  256.  512. 1024.]\n"
     ]
    }
   ],
   "source": [
    "import numpy as np \n",
    "a = np.array([1, 2, 3], dtype = complex) \n",
    "print(a)\n",
    "\n",
    "x = np.arange(10,20,2) \n",
    "print(x)\n",
    "\n",
    "y = np.logspace(1,10,num = 10, base = 2) \n",
    "print(y)"
   ]
  },
  {
   "cell_type": "code",
   "execution_count": 9,
   "metadata": {},
   "outputs": [
    {
     "name": "stdout",
     "output_type": "stream",
     "text": [
      "(2, 3)\n",
      "[[1 2]\n",
      " [3 4]\n",
      " [5 6]]\n",
      "[[1 2 3]\n",
      " [4 5 6]]\n",
      "[[1 2]\n",
      " [3 4]\n",
      " [5 6]]\n"
     ]
    }
   ],
   "source": [
    "import numpy as np\n",
    "a = np.array([[1,2,3],[4,5,6]])\n",
    "print(a.shape)\n",
    "\n",
    "# this resizes the ndarray \n",
    "a.shape = (3,2)\n",
    "print(a)\n",
    "\n",
    "# this also resizes the ndarray \n",
    "a = np.array([[1,2,3],[4,5,6]])\n",
    "print(a)\n",
    "b = a.reshape(3,2)\n",
    "print(b)"
   ]
  },
  {
   "cell_type": "code",
   "execution_count": 10,
   "metadata": {},
   "outputs": [
    {
     "name": "stdout",
     "output_type": "stream",
     "text": [
      "[[1 1]\n",
      " [1 1]]\n",
      "[0 0 0 0 0]\n"
     ]
    }
   ],
   "source": [
    "\n",
    "x = np.ones([2,2], dtype = int) \n",
    "print(x)\n",
    "\n",
    "y = np.zeros((5,), dtype = np.int) \n",
    "print(y)"
   ]
  },
  {
   "cell_type": "code",
   "execution_count": 11,
   "metadata": {},
   "outputs": [
    {
     "name": "stdout",
     "output_type": "stream",
     "text": [
      "[2 4 6]\n",
      "[2 4 6]\n"
     ]
    }
   ],
   "source": [
    "#slicing...\n",
    "a = np.arange(10) \n",
    "s = slice(2,7,2) \n",
    "print(a[s])\n",
    "\n",
    "a = np.arange(10) \n",
    "b = a[2:7:2] \n",
    "print(b)"
   ]
  },
  {
   "cell_type": "code",
   "execution_count": 12,
   "metadata": {},
   "outputs": [
    {
     "name": "stdout",
     "output_type": "stream",
     "text": [
      "[[1 2 3]\n",
      " [3 4 5]\n",
      " [4 5 6]]\n",
      "Now we will slice the array from the index a[1:]\n",
      "[[3 4 5]\n",
      " [4 5 6]]\n"
     ]
    }
   ],
   "source": [
    "a = np.array([[1,2,3],[3,4,5],[4,5,6]]) \n",
    "print(a)  \n",
    "\n",
    "# slice items starting from index\n",
    "print(\"Now we will slice the array from the index a[1:]\") \n",
    "print(a[1:])"
   ]
  },
  {
   "cell_type": "code",
   "execution_count": 13,
   "metadata": {},
   "outputs": [
    {
     "name": "stdout",
     "output_type": "stream",
     "text": [
      "[[11 22]\n",
      " [44 55]\n",
      " [77 88]]\n",
      "[33 66 99]\n"
     ]
    }
   ],
   "source": [
    "from numpy import array\n",
    "# define array\n",
    "data = array([[11, 22, 33],\n",
    "\t\t[44, 55, 66],\n",
    "\t\t[77, 88, 99]])\n",
    "# separate data\n",
    "X, y = data[:, :-1], data[:, -1]\n",
    "print(X)\n",
    "print(y)"
   ]
  },
  {
   "cell_type": "code",
   "execution_count": 14,
   "metadata": {},
   "outputs": [
    {
     "name": "stdout",
     "output_type": "stream",
     "text": [
      "Original array is:\n",
      "[[ 0  5 10 15]\n",
      " [20 25 30 35]\n",
      " [40 45 50 55]]\n",
      "\n",
      "\n",
      "Modified array is:\n",
      "0\n",
      "5\n",
      "10\n",
      "15\n",
      "20\n",
      "25\n",
      "30\n",
      "35\n",
      "40\n",
      "45\n",
      "50\n",
      "55\n"
     ]
    }
   ],
   "source": [
    "#nditer for iterating on ndarrays.\n",
    "a = np.arange(0,60,5)\n",
    "a = a.reshape(3,4)\n",
    "\n",
    "print(\"Original array is:\")\n",
    "print(a)\n",
    "print('\\n')\n",
    "\n",
    "print('Modified array is:')\n",
    "for x in np.nditer(a):\n",
    "   print(x)"
   ]
  },
  {
   "cell_type": "code",
   "execution_count": 15,
   "metadata": {},
   "outputs": [
    {
     "name": "stdout",
     "output_type": "stream",
     "text": [
      "Original array is:\n",
      "[[ 0  5 10 15]\n",
      " [20 25 30 35]\n",
      " [40 45 50 55]]\n",
      "\n",
      "\n",
      "Transpose of the original array is:\n",
      "[[ 0 20 40]\n",
      " [ 5 25 45]\n",
      " [10 30 50]\n",
      " [15 35 55]]\n",
      "\n",
      "\n",
      "Modified array is:\n",
      "0\n",
      "5\n",
      "10\n",
      "15\n",
      "20\n",
      "25\n",
      "30\n",
      "35\n",
      "40\n",
      "45\n",
      "50\n",
      "55\n"
     ]
    }
   ],
   "source": [
    "\"\"\"The order of iteration is chosen to match the memory layout of an array, without considering a particular ordering. \n",
    "This can be seen by iterating over the transpose of the above array.\"\"\"\n",
    "a = np.arange(0,60,5) \n",
    "a = a.reshape(3,4) \n",
    "   \n",
    "print('Original array is:')\n",
    "print(a) \n",
    "print('\\n')  \n",
    "   \n",
    "print('Transpose of the original array is:')\n",
    "b = a.T \n",
    "print(b) \n",
    "print('\\n')  \n",
    "   \n",
    "print('Modified array is:')\n",
    "for x in np.nditer(b): \n",
    "   print(x)"
   ]
  },
  {
   "cell_type": "code",
   "execution_count": 16,
   "metadata": {},
   "outputs": [
    {
     "name": "stdout",
     "output_type": "stream",
     "text": [
      "Original array is:\n",
      "[[ 0  5 10 15]\n",
      " [20 25 30 35]\n",
      " [40 45 50 55]]\n",
      "\n",
      "\n",
      "Sorted in C-style order:\n",
      "0\n",
      "5\n",
      "10\n",
      "15\n",
      "20\n",
      "25\n",
      "30\n",
      "35\n",
      "40\n",
      "45\n",
      "50\n",
      "55\n",
      "\n",
      "\n",
      "Sorted in F-style order:\n",
      "0\n",
      "20\n",
      "40\n",
      "5\n",
      "25\n",
      "45\n",
      "10\n",
      "30\n",
      "50\n",
      "15\n",
      "35\n",
      "55\n"
     ]
    }
   ],
   "source": [
    "\"\"\"Forcing nditer object to use a specific order by explicitly mentioning it\"\"\"\n",
    "a = np.arange(0,60,5) \n",
    "a = a.reshape(3,4) \n",
    "\n",
    "print('Original array is:')\n",
    "print(a) \n",
    "print('\\n')  \n",
    "\n",
    "print('Sorted in C-style order:')\n",
    "for x in np.nditer(a, order = 'C'): \n",
    "   print(x) \n",
    "print('\\n') \n",
    "\n",
    "print('Sorted in F-style order:') \n",
    "for x in np.nditer(a, order = 'F'): \n",
    "   print(x)"
   ]
  },
  {
   "cell_type": "code",
   "execution_count": 17,
   "metadata": {},
   "outputs": [
    {
     "name": "stdout",
     "output_type": "stream",
     "text": [
      "['hello', 'how', 'are', 'you?']\n",
      "['Amrita', 'Anokha', 'Python']\n",
      "He was a good boy\n",
      "['HELLO' 'WORLD']\n",
      "['hello' 'world']\n"
     ]
    }
   ],
   "source": [
    "# strings\n",
    "\n",
    "print(np.char.split ('hello how are you?') )\n",
    "print(np.char.split ('Amrita,Anokha,Python', sep = ','))\n",
    "\n",
    "print(np.char.replace ('He is a good boy', 'is', 'was'))\n",
    "\n",
    "print(np.char.upper(['hello','world']))\n",
    "print(np.char.lower(['HELLO','WORLD']))"
   ]
  },
  {
   "cell_type": "code",
   "execution_count": 18,
   "metadata": {},
   "outputs": [
    {
     "name": "stdout",
     "output_type": "stream",
     "text": [
      "Our array is:\n",
      "[[1 2 3]\n",
      " [3 4 5]\n",
      " [4 5 6]]\n",
      "\n",
      "\n",
      "Applying mean() function:\n",
      "3.6666666666666665\n",
      "\n",
      "\n",
      "Applying mean() function along axis 0:\n",
      "[2.66666667 3.66666667 4.66666667]\n",
      "\n",
      "\n",
      "Applying mean() function along axis 1:\n",
      "[2. 4. 5.]\n",
      "Our array is:\n",
      "[[30 65 70]\n",
      " [80 95 10]\n",
      " [50 90 60]]\n",
      "\n",
      "\n",
      "Applying median() function:\n",
      "65.0\n",
      "\n",
      "\n",
      "Applying median() function along axis 0:\n",
      "[50. 90. 60.]\n",
      "\n",
      "\n",
      "Applying median() function along axis 1:\n",
      "[65. 80. 60.]\n",
      "\n",
      "\n",
      "Applying Variance\n",
      "1.25\n",
      "Applying Standard Deviation\n",
      "1.118033988749895\n"
     ]
    }
   ],
   "source": [
    "#statistical functions\n",
    "\n",
    "a = np.array([[1,2,3],[3,4,5],[4,5,6]]) \n",
    "\n",
    "print('Our array is:')\n",
    "print(a) \n",
    "print('\\n')  \n",
    "\n",
    "#Mean\n",
    "print('Applying mean() function:')\n",
    "print(np.mean(a)) \n",
    "print('\\n')  \n",
    "\n",
    "print('Applying mean() function along axis 0:')\n",
    "print(np.mean(a, axis = 0))\n",
    "print('\\n')  \n",
    "\n",
    "print('Applying mean() function along axis 1:')\n",
    "print(np.mean(a, axis = 1))\n",
    "\n",
    "#median\n",
    "\n",
    "a = np.array([[30,65,70],[80,95,10],[50,90,60]]) \n",
    "\n",
    "print('Our array is:')\n",
    "print(a) \n",
    "print('\\n') \n",
    "\n",
    "print('Applying median() function:')\n",
    "print(np.median(a))\n",
    "print('\\n') \n",
    "\n",
    "print('Applying median() function along axis 0:')\n",
    "print(np.median(a, axis = 0)) \n",
    "print('\\n')  \n",
    " \n",
    "print('Applying median() function along axis 1:')\n",
    "print(np.median(a, axis = 1))\n",
    "print('\\n') \n",
    "\n",
    "print('Applying Variance')\n",
    "print(np.var([1,2,3,4]))\n",
    "\n",
    "#standard deviation\n",
    "print('Applying Standard Deviation')\n",
    "print(np.std([1,2,3,4]))\n"
   ]
  },
  {
   "cell_type": "code",
   "execution_count": 3,
   "metadata": {},
   "outputs": [
    {
     "name": "stdout",
     "output_type": "stream",
     "text": [
      "[[0. 0.]\n",
      " [0. 0.]]\n",
      "[[1. 1.]\n",
      " [1. 1.]]\n",
      "[[1. 0. 0. 0.]\n",
      " [0. 1. 0. 0.]\n",
      " [0. 0. 1. 0.]]\n",
      "[[1. 0. 0. 0. 0.]\n",
      " [0. 1. 0. 0. 0.]\n",
      " [0. 0. 1. 0. 0.]\n",
      " [0. 0. 0. 1. 0.]\n",
      " [0. 0. 0. 0. 1.]]\n",
      "[[0.89837135 0.01469028 0.52724373]\n",
      " [0.55229961 0.01281494 0.71310622]\n",
      " [0.0198487  0.53467778 0.22838956]]\n"
     ]
    }
   ],
   "source": [
    "#Matrix Library\n",
    "import numpy.matlib \n",
    "import numpy as np \n",
    "print(np.zeros((2,2)))\n",
    "\n",
    "print(np.matlib.ones((2,2)))\n",
    "\n",
    "#numpy.matlib.eye(n, M,k, dtype) rows, cols, index of diagnol, datatype\n",
    "print(np.matlib.eye(n = 3, M = 4, k = 0, dtype = float))\n",
    "\n",
    "#identity martix\n",
    "print(np.matlib.identity(5, dtype = float))\n",
    "\n",
    "#random matrix\n",
    "print(np.matlib.rand(3,3))"
   ]
  },
  {
   "cell_type": "code",
   "execution_count": 20,
   "metadata": {},
   "outputs": [
    {
     "name": "stdout",
     "output_type": "stream",
     "text": [
      "[[37 40]\n",
      " [85 92]]\n",
      "130\n",
      "Array a:\n",
      "[[1 2]\n",
      " [3 4]]\n",
      "Array b:\n",
      "[[11 12]\n",
      " [13 14]]\n",
      "Inner product:\n",
      "[[35 41]\n",
      " [81 95]]\n"
     ]
    }
   ],
   "source": [
    "# dot product same as matrix multiplication [[1*11+2*13, 1*12+2*14],[3*11+4*13, 3*12+4*14]]\n",
    "a = np.array([[1,2],[3,4]]) \n",
    "b = np.array([[11,12],[13,14]]) \n",
    "print(np.dot(a,b))\n",
    "\n",
    "#vdot If the argument id is multi-dimensional array, it is flattened. 1*11 + 2*12 + 3*13 + 4*14 = 130\n",
    "\n",
    "x = np.array([[1,2],[3,4]]) \n",
    "y = np.array([[11,12],[13,14]]) \n",
    "print(np.vdot(x,y))\n",
    "\n",
    "\n",
    "\"\"\"inner product  1*11+2*12, 1*13+2*14 \n",
    "3*11+4*12, 3*13+4*14 \"\"\"\n",
    "a = np.array([[1,2], [3,4]]) \n",
    "\n",
    "print('Array a:')\n",
    "print(a) \n",
    "b = np.array([[11, 12], [13, 14]]) \n",
    "\n",
    "print('Array b:')\n",
    "print(b) \n",
    "\n",
    "print('Inner product:')\n",
    "print(np.inner(a,b))"
   ]
  },
  {
   "cell_type": "code",
   "execution_count": 21,
   "metadata": {},
   "outputs": [
    {
     "name": "stdout",
     "output_type": "stream",
     "text": [
      "[[4 1]\n",
      " [2 2]]\n"
     ]
    }
   ],
   "source": [
    "#matrix multiplication\n",
    "a = [[1,0],[0,1]] \n",
    "b = [[4,1],[2,2]] \n",
    "print(np.matmul(a,b))"
   ]
  },
  {
   "cell_type": "code",
   "execution_count": 22,
   "metadata": {},
   "outputs": [
    {
     "name": "stdout",
     "output_type": "stream",
     "text": [
      "-2.00\n"
     ]
    }
   ],
   "source": [
    "#determinant\n",
    "a = np.array([[1,2], [3,4]]) \n",
    "print(\"{0:.2f}\".format(np.linalg.det(a)))"
   ]
  },
  {
   "cell_type": "code",
   "execution_count": 6,
   "metadata": {},
   "outputs": [
    {
     "name": "stdout",
     "output_type": "stream",
     "text": [
      "[[1 2]\n",
      " [3 4]]\n",
      "[[-2.   1. ]\n",
      " [ 1.5 -0.5]]\n",
      "[[1.00000000e+00 1.11022302e-16]\n",
      " [0.00000000e+00 1.00000000e+00]]\n"
     ]
    }
   ],
   "source": [
    "#inverse matrix\n",
    "x = np.array([[1,2],[3,4]]) \n",
    "y = np.linalg.inv(x) \n",
    "print(x) \n",
    "print(y) \n",
    "print(np.dot(x,y))"
   ]
  },
  {
   "cell_type": "code",
   "execution_count": 24,
   "metadata": {},
   "outputs": [
    {
     "name": "stdout",
     "output_type": "stream",
     "text": [
      "[2. 3.]\n"
     ]
    }
   ],
   "source": [
    "#solving linear equation AX=B\n",
    "a = np.array([[3,1], [1,2]])\n",
    "b = np.array([9,8])\n",
    "x = np.linalg.solve(a, b)\n",
    "print(x)"
   ]
  },
  {
   "cell_type": "code",
   "execution_count": 25,
   "metadata": {},
   "outputs": [
    {
     "data": {
      "image/png": "[encoded data removed]",
      "text/plain": [
       "<matplotlib.figure.Figure at 0x10d8c0400>"
      ]
     },
     "metadata": {},
     "output_type": "display_data"
    }
   ],
   "source": [
    "#PLOTTING using Matplotlib\n",
    "\n",
    "\n",
    "import matplotlib.pyplot as plt\n",
    "%matplotlib inline\n",
    " # this will avoid showing the address of the image in macOSX\n",
    "plt.plot([1,2,3,4])\n",
    "plt.ylabel('some numbers')\n",
    "plt.show()"
   ]
  },
  {
   "cell_type": "code",
   "execution_count": 26,
   "metadata": {},
   "outputs": [
    {
     "data": {
      "image/png": "[encoded data removed]",
      "text/plain": [
       "<matplotlib.figure.Figure at 0x1167a6358>"
      ]
     },
     "metadata": {},
     "output_type": "display_data"
    }
   ],
   "source": [
    "import matplotlib.pyplot as plt\n",
    "plt.plot([1,2,3,4], [1,4,9,16], 'ro')\n",
    "plt.axis([0, 6, 0, 20])\n",
    "plt.show()"
   ]
  },
  {
   "cell_type": "code",
   "execution_count": 27,
   "metadata": {},
   "outputs": [
    {
     "data": {
      "image/png": "[encoded data removed]",
      "text/plain": [
       "<matplotlib.figure.Figure at 0x1167b7518>"
      ]
     },
     "metadata": {},
     "output_type": "display_data"
    }
   ],
   "source": [
    "# Create data\n",
    "N = 500\n",
    "x = np.random.rand(N)\n",
    "y = np.random.rand(N)\n",
    "colors = (0,0,0)\n",
    "area = np.pi*3\n",
    " \n",
    "# Plot\n",
    "plt.scatter(x, y, s=area, c=colors, alpha=0.5)\n",
    "plt.title('Scatter plot')\n",
    "plt.xlabel('x')\n",
    "plt.ylabel('y')\n",
    "plt.show()"
   ]
  },
  {
   "cell_type": "code",
   "execution_count": 28,
   "metadata": {},
   "outputs": [
    {
     "data": {
      "image/png": "[encoded data removed]",
      "text/plain": [
       "<matplotlib.figure.Figure at 0x11692ef28>"
      ]
     },
     "metadata": {},
     "output_type": "display_data"
    }
   ],
   "source": [
    "from matplotlib import pyplot as plt \n",
    "x = [5,8,10] \n",
    "y = [12,16,6]  \n",
    "\n",
    "x2 = [6,9,11] \n",
    "y2 = [6,15,7] \n",
    "plt.bar(x, y, align = 'center') \n",
    "plt.bar(x2, y2, color = 'g', align = 'center') \n",
    "plt.title('Bar graph') \n",
    "plt.ylabel('Y axis') \n",
    "plt.xlabel('X axis')  \n",
    "\n",
    "plt.show()"
   ]
  }
 ],
 "metadata": {
  "kernelspec": {
   "display_name": "Python 3",
   "language": "python",
   "name": "python3"
  },
  "language_info": {
   "codemirror_mode": {
    "name": "ipython",
    "version": 3
   },
   "file_extension": ".py",
   "mimetype": "text/x-python",
   "name": "python",
   "nbconvert_exporter": "python",
   "pygments_lexer": "ipython3",
   "version": "3.7.6"
  }
 },
 "nbformat": 4,
 "nbformat_minor": 2
}
