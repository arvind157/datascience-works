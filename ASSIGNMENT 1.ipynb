{
  "cells": [
    {
      "cell_type": "code",
      "execution_count": 2,
      "metadata": {
        "colab": {
          "base_uri": "https://localhost:8080/"
        },
        "id": "l3oc4wTMMIKn",
        "outputId": "fe2e4f56-e1e2-4dc0-c2a0-d94ff1c7a432"
      },
      "outputs": [
        {
          "name": "stdout",
          "output_type": "stream",
          "text": [
            "<class 'set'>   {400.4, 777, 'aman', '222'}\n",
            "Converting tuple to set\n",
            "<class 'tuple'>   (400.4, 777, 'aman', '222')\n"
          ]
        }
      ],
      "source": [
        "tpl = {\"aman\", \"222\", 777, 400.4}\n",
        "\n",
        "# Printing tuple\n",
        "print(type(tpl), \" \", tpl)\n",
        "\n",
        "# set() method convert set to tuple\n",
        "s = tuple(tpl)\n",
        "print(\"Converting tuple to set\")\n",
        "\n",
        "# printing tuple\n",
        "print(type(s), \" \", s)\n"
      ]
    },
    {
      "cell_type": "code",
      "execution_count": 3,
      "metadata": {
        "colab": {
          "base_uri": "https://localhost:8080/"
        },
        "id": "ad39vnJFMV7l",
        "outputId": "4308f83a-afa4-4067-b646-8a72c3b32f91"
      },
      "outputs": [
        {
          "name": "stdout",
          "output_type": "stream",
          "text": [
            "{'first name': 'arvind', 'roll no': 'cb.en.u4cse20209', 'lastname': 'balajee', 'dob': '15/07/2002'}\n"
          ]
        }
      ],
      "source": [
        "data={\"first name\":\"arvind\",\"roll no\":\"cb.en.u4cse20209\",\"lastname\":\"balajee\",\"dob\":\"15/07/2002\"}\n",
        "print(data)\n"
      ]
    },
    {
      "cell_type": "code",
      "execution_count": 3,
      "metadata": {
        "colab": {
          "base_uri": "https://localhost:8080/"
        },
        "id": "CPlHppwLMcz4",
        "outputId": "11762c8a-2e30-4559-9576-fd39cb19ed99"
      },
      "outputs": [
        {
          "name": "stdout",
          "output_type": "stream",
          "text": [
            "[[0.77132064 0.02075195]\n",
            " [0.63364823 0.74880388]]\n"
          ]
        }
      ],
      "source": [
        "import numpy as np\n",
        "np.random.seed(10)\n",
        "arr=np.random.random((2,2))\n",
        "print(arr)\n"
      ]
    },
    {
      "cell_type": "code",
      "execution_count": 4,
      "metadata": {
        "colab": {
          "base_uri": "https://localhost:8080/"
        },
        "id": "P9WtTsWqM2J3",
        "outputId": "b7df43a1-912a-4c4f-f8e9-9058e6b76e61"
      },
      "outputs": [
        {
          "name": "stdout",
          "output_type": "stream",
          "text": [
            "0.4985070123025904\n",
            "1234\n"
          ]
        }
      ],
      "source": [
        "from numpy import random\n",
        "x=random.rand()\n",
        "print(x)\n",
        "y=-1234\n",
        "print(abs(y))\n"
      ]
    },
    {
      "cell_type": "code",
      "execution_count": 5,
      "metadata": {
        "colab": {
          "base_uri": "https://localhost:8080/"
        },
        "id": "4ppAGhKRM7fP",
        "outputId": "758b30eb-3441-4f0c-8a85-714ef77a48a2"
      },
      "outputs": [
        {
          "name": "stdout",
          "output_type": "stream",
          "text": [
            "49\n"
          ]
        }
      ],
      "source": [
        "from numpy import random\n",
        "x=random.randint(20,90)\n",
        "print(x)"
      ]
    },
    {
      "cell_type": "code",
      "execution_count": 6,
      "metadata": {
        "colab": {
          "base_uri": "https://localhost:8080/"
        },
        "id": "YrwdzAAaNOC-",
        "outputId": "0435b237-d04d-4b4c-ed92-b7d48ea25de8"
      },
      "outputs": [
        {
          "name": "stdout",
          "output_type": "stream",
          "text": [
            "[11, 13, 12]\n",
            "[11, 13, 12, 14, 15]\n",
            "15\n"
          ]
        }
      ],
      "source": [
        "import random\n",
        "set={11,12,13,14,15}\n",
        "d=tuple(set)\n",
        "a=random.sample(set,3)\n",
        "print(a)\n",
        "b=random.sample(set,5)\n",
        "print(b)\n",
        "l=random.choice(d)\n",
        "print(l)"
      ]
    },
    {
      "cell_type": "code",
      "execution_count": null,
      "metadata": {
        "id": "caGFil6MNxKD"
      },
      "outputs": [],
      "source": [
        "f=open(\"testfile.txt\",\"w\")\n",
        "f.close()\n",
        "f = open(\"testfile.txt\", \"w\")\n",
        "f.write(\"The King is Dead, Long Live The King\")\n",
        "f.close()\n",
        "f=open(\"testfile.txt\",\"r\")\n",
        "print(f.read())"
      ]
    },
    {
      "cell_type": "code",
      "execution_count": null,
      "metadata": {
        "id": "3AOAKndHNy9j"
      },
      "outputs": [],
      "source": [
        "price = 50\n",
        "quantity = 5\n",
        "amount = price*quantity\n",
        "\n",
        "if amount > 100:\n",
        "    if amount > 500:\n",
        "        print(\"Amount is greater than 500\")\n",
        "    else:\n",
        "        if amount < 500 and amount > 400:\n",
        "            print(\"Amount is\")\n",
        "        elif amount < 500 and amount > 300:\n",
        "            print(\"Amount is between 300 and 500\")\n",
        "        else:\n",
        "            print(\"Amount is between 200 and 500\")\n",
        "elif amount == 100:\n",
        "    print(\"Amount is 100\")\n",
        "else:\n",
        "    print(\"Amount is less than 100\")"
      ]
    },
    {
      "cell_type": "code",
      "execution_count": null,
      "metadata": {
        "id": "3CTUa8iUN59J"
      },
      "outputs": [],
      "source": [
        "for x in range (10,20):\n",
        "\t\tif (x == 15):\n",
        "                    break\n",
        "\t\tif (x % 5 == 0) :\n",
        "                    continue\n",
        "\t\tprint x\n",
        "\n",
        "x=0\n",
        "#define a while loop\n",
        "while(x <4):\n",
        "\t\tprint(x)\n",
        "\t\tx = x+1"
      ]
    },
    {
      "cell_type": "code",
      "execution_count": null,
      "metadata": {
        "id": "AVavR0YlN-d5"
      },
      "outputs": [],
      "source": [
        "x=\"The King is Dead, Long Live The King\"\n",
        "print(x)\n",
        "print(x[0])\n",
        "print(x[3:6])\n",
        "print(x[3:])\n",
        "print(x.split())\n",
        "y=[1,2,6,8]\n",
        "print(y[0],y[1],sep=' ')\n"
      ]
    },
    {
      "cell_type": "code",
      "execution_count": null,
      "metadata": {
        "id": "kUyPa8uZOFet"
      },
      "outputs": [],
      "source": [
        "import numpy as np\n",
        "x=np.array([[1,2,3],[4,5,6]])\n",
        "print(x)\n"
      ]
    },
    {
      "cell_type": "code",
      "execution_count": null,
      "metadata": {
        "id": "Ng4_TLe7OP1V"
      },
      "outputs": [],
      "source": [
        "import numpy as np\n",
        "\n",
        "x=np.array([[1,2,3],[4,5,6]])\n",
        "print(x[1,0:])\n",
        "print(x[0:2,1])\n",
        "print(len(x))\n"
      ]
    },
    {
      "cell_type": "code",
      "execution_count": null,
      "metadata": {
        "id": "u1XM7FRsOQhu"
      },
      "outputs": [],
      "source": [
        "import numpy as np\n",
        "x=np.array([1,2,3,4,5,6,7,8,9,0])\n",
        "y=x.reshape(2,5)\n",
        "print(y)\n"
      ]
    },
    {
      "cell_type": "code",
      "execution_count": null,
      "metadata": {
        "id": "4O7eUQW3OUMA"
      },
      "outputs": [],
      "source": [
        "import numpy as np\n",
        "x=[1,2,3]\n",
        "y=np.array(x)\n",
        "print(y)\n"
      ]
    },
    {
      "cell_type": "code",
      "execution_count": null,
      "metadata": {
        "id": "dfeIo4mtOZq2"
      },
      "outputs": [],
      "source": [
        "x=[2,4,5]\n",
        "sum=0\n",
        "for i in x:\n",
        "    sum+=i\n",
        "print(sum)\n"
      ]
    },
    {
      "cell_type": "code",
      "execution_count": null,
      "metadata": {
        "id": "Fzs57PacOcVh"
      },
      "outputs": [],
      "source": [
        "x=[1,2,3]\n",
        "x[0]=9\n",
        "x[1]=9\n",
        "x[2]=9\n",
        "print(x)\n"
      ]
    },
    {
      "cell_type": "code",
      "execution_count": null,
      "metadata": {
        "id": "DlyRyVexOdDo"
      },
      "outputs": [],
      "source": [
        "import numpy as np\n",
        "x=np.array([77,74,75])\n",
        "print(x.prod())\n"
      ]
    },
    {
      "cell_type": "code",
      "execution_count": null,
      "metadata": {
        "id": "nmo8Gp5jOf6g"
      },
      "outputs": [],
      "source": [
        "import numpy as np\n",
        "x=np.array([2,1,9,1,2,22,1,1,4,55,6,2,56])\n",
        "print(x.mean())\n",
        "print(np.median(x))\n",
        "print(x.max())\n",
        "print(x.min())\n",
        "print(x.var())\n",
        "print(x.argmin())\n",
        "print(x.argmax())\n",
        "print(x.std())\n"
      ]
    },
    {
      "cell_type": "code",
      "execution_count": null,
      "metadata": {
        "id": "cIzHVFaoOi2T"
      },
      "outputs": [],
      "source": [
        "import numpy as np\n",
        "y=np.unique([2,1,9,1,2,22,1,1,4,55,6,2,56])\n",
        "print(y)\n"
      ]
    },
    {
      "cell_type": "code",
      "execution_count": null,
      "metadata": {
        "id": "iE2tK0NvOoR3"
      },
      "outputs": [],
      "source": [
        "import numpy as np\n",
        "x=np.dot([1,2,3],[4,5,6])\n",
        "print(x)\n",
        "\n"
      ]
    },
    {
      "cell_type": "code",
      "execution_count": null,
      "metadata": {
        "id": "lfVhZzCVOq_M"
      },
      "outputs": [],
      "source": [
        "import numpy as np\n",
        "x=np.array([[2 ,-12],[1,-5]])\n",
        "w, v = np.linalg.eig(x)\n",
        "print(w)\n",
        "print(v)\n"
      ]
    },
    {
      "cell_type": "code",
      "execution_count": null,
      "metadata": {
        "id": "7P8hvyhCPTGs"
      },
      "outputs": [],
      "source": [
        "import numpy as np\n",
        "yarr = rng.random(([11, 22, 11, 31], 3))\n",
        "R2 = np.corrcoef(xarr, yarr)"
      ]
    }
  ],
  "metadata": {
    "colab": {
      "collapsed_sections": [],
      "provenance": []
    },
    "kernelspec": {
      "display_name": "Python 3.8.2 64-bit",
      "language": "python",
      "name": "python3"
    },
    "language_info": {
      "codemirror_mode": {
        "name": "ipython",
        "version": 3
      },
      "file_extension": ".py",
      "mimetype": "text/x-python",
      "name": "python",
      "nbconvert_exporter": "python",
      "pygments_lexer": "ipython3",
      "version": "3.8.2"
    },
    "vscode": {
      "interpreter": {
        "hash": "570feb405e2e27c949193ac68f46852414290d515b0ba6e5d90d076ed2284471"
      }
    }
  },
  "nbformat": 4,
  "nbformat_minor": 0
}
