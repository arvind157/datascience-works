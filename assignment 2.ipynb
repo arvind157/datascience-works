{
 "cells": [
  {
   "cell_type": "code",
   "execution_count": 73,
   "metadata": {},
   "outputs": [
    {
     "ename": "KeyError",
     "evalue": "'TEAM'",
     "output_type": "error",
     "traceback": [
      "\u001b[1;31m---------------------------------------------------------------------------\u001b[0m",
      "\u001b[1;31mKeyError\u001b[0m                                  Traceback (most recent call last)",
      "Cell \u001b[1;32mIn [73], line 17\u001b[0m\n\u001b[0;32m      6\u001b[0m df\u001b[39m=\u001b[39mp\u001b[39m.\u001b[39mDataFrame(d)\n\u001b[0;32m      7\u001b[0m \u001b[39m#print(df.size)\u001b[39;00m\n\u001b[0;32m      8\u001b[0m \u001b[39m#print(df.describe())\u001b[39;00m\n\u001b[0;32m      9\u001b[0m \u001b[39m#df.rename(columns={'POPESTIMATE2010':'2010' , 'POPESTIMATE2014':'2014' },inplace=True)\u001b[39;00m\n\u001b[1;32m   (...)\u001b[0m\n\u001b[0;32m     15\u001b[0m \u001b[39m#df.loc[[67,68,69,70,71],[\"2010\",\"2014\"]]\u001b[39;00m\n\u001b[0;32m     16\u001b[0m \u001b[39m#df.plot(kind='scatter',x='AGE',y='SEX')\u001b[39;00m\n\u001b[1;32m---> 17\u001b[0m df\u001b[39m.\u001b[39mgroupby(\u001b[39m'\u001b[39m\u001b[39mTEAM\u001b[39m\u001b[39m'\u001b[39m)\u001b[39m.\u001b[39msum(\u001b[39m'\u001b[39m\u001b[39mSALARY\u001b[39m\u001b[39m'\u001b[39m)\n",
      "File \u001b[1;32mc:\\Users\\kanis\\AppData\\Local\\Programs\\Python\\Python310\\lib\\site-packages\\pandas\\core\\frame.py:8392\u001b[0m, in \u001b[0;36mDataFrame.groupby\u001b[1;34m(self, by, axis, level, as_index, sort, group_keys, squeeze, observed, dropna)\u001b[0m\n\u001b[0;32m   8389\u001b[0m     \u001b[39mraise\u001b[39;00m \u001b[39mTypeError\u001b[39;00m(\u001b[39m\"\u001b[39m\u001b[39mYou have to supply one of \u001b[39m\u001b[39m'\u001b[39m\u001b[39mby\u001b[39m\u001b[39m'\u001b[39m\u001b[39m and \u001b[39m\u001b[39m'\u001b[39m\u001b[39mlevel\u001b[39m\u001b[39m'\u001b[39m\u001b[39m\"\u001b[39m)\n\u001b[0;32m   8390\u001b[0m axis \u001b[39m=\u001b[39m \u001b[39mself\u001b[39m\u001b[39m.\u001b[39m_get_axis_number(axis)\n\u001b[1;32m-> 8392\u001b[0m \u001b[39mreturn\u001b[39;00m DataFrameGroupBy(\n\u001b[0;32m   8393\u001b[0m     obj\u001b[39m=\u001b[39;49m\u001b[39mself\u001b[39;49m,\n\u001b[0;32m   8394\u001b[0m     keys\u001b[39m=\u001b[39;49mby,\n\u001b[0;32m   8395\u001b[0m     axis\u001b[39m=\u001b[39;49maxis,\n\u001b[0;32m   8396\u001b[0m     level\u001b[39m=\u001b[39;49mlevel,\n\u001b[0;32m   8397\u001b[0m     as_index\u001b[39m=\u001b[39;49mas_index,\n\u001b[0;32m   8398\u001b[0m     sort\u001b[39m=\u001b[39;49msort,\n\u001b[0;32m   8399\u001b[0m     group_keys\u001b[39m=\u001b[39;49mgroup_keys,\n\u001b[0;32m   8400\u001b[0m     squeeze\u001b[39m=\u001b[39;49msqueeze,\n\u001b[0;32m   8401\u001b[0m     observed\u001b[39m=\u001b[39;49mobserved,\n\u001b[0;32m   8402\u001b[0m     dropna\u001b[39m=\u001b[39;49mdropna,\n\u001b[0;32m   8403\u001b[0m )\n",
      "File \u001b[1;32mc:\\Users\\kanis\\AppData\\Local\\Programs\\Python\\Python310\\lib\\site-packages\\pandas\\core\\groupby\\groupby.py:959\u001b[0m, in \u001b[0;36mGroupBy.__init__\u001b[1;34m(self, obj, keys, axis, level, grouper, exclusions, selection, as_index, sort, group_keys, squeeze, observed, mutated, dropna)\u001b[0m\n\u001b[0;32m    956\u001b[0m \u001b[39mif\u001b[39;00m grouper \u001b[39mis\u001b[39;00m \u001b[39mNone\u001b[39;00m:\n\u001b[0;32m    957\u001b[0m     \u001b[39mfrom\u001b[39;00m \u001b[39mpandas\u001b[39;00m\u001b[39m.\u001b[39;00m\u001b[39mcore\u001b[39;00m\u001b[39m.\u001b[39;00m\u001b[39mgroupby\u001b[39;00m\u001b[39m.\u001b[39;00m\u001b[39mgrouper\u001b[39;00m \u001b[39mimport\u001b[39;00m get_grouper\n\u001b[1;32m--> 959\u001b[0m     grouper, exclusions, obj \u001b[39m=\u001b[39m get_grouper(\n\u001b[0;32m    960\u001b[0m         obj,\n\u001b[0;32m    961\u001b[0m         keys,\n\u001b[0;32m    962\u001b[0m         axis\u001b[39m=\u001b[39;49maxis,\n\u001b[0;32m    963\u001b[0m         level\u001b[39m=\u001b[39;49mlevel,\n\u001b[0;32m    964\u001b[0m         sort\u001b[39m=\u001b[39;49msort,\n\u001b[0;32m    965\u001b[0m         observed\u001b[39m=\u001b[39;49mobserved,\n\u001b[0;32m    966\u001b[0m         mutated\u001b[39m=\u001b[39;49m\u001b[39mself\u001b[39;49m\u001b[39m.\u001b[39;49mmutated,\n\u001b[0;32m    967\u001b[0m         dropna\u001b[39m=\u001b[39;49m\u001b[39mself\u001b[39;49m\u001b[39m.\u001b[39;49mdropna,\n\u001b[0;32m    968\u001b[0m     )\n\u001b[0;32m    970\u001b[0m \u001b[39mself\u001b[39m\u001b[39m.\u001b[39mobj \u001b[39m=\u001b[39m obj\n\u001b[0;32m    971\u001b[0m \u001b[39mself\u001b[39m\u001b[39m.\u001b[39maxis \u001b[39m=\u001b[39m obj\u001b[39m.\u001b[39m_get_axis_number(axis)\n",
      "File \u001b[1;32mc:\\Users\\kanis\\AppData\\Local\\Programs\\Python\\Python310\\lib\\site-packages\\pandas\\core\\groupby\\grouper.py:889\u001b[0m, in \u001b[0;36mget_grouper\u001b[1;34m(obj, key, axis, level, sort, observed, mutated, validate, dropna)\u001b[0m\n\u001b[0;32m    887\u001b[0m         in_axis, level, gpr \u001b[39m=\u001b[39m \u001b[39mFalse\u001b[39;00m, gpr, \u001b[39mNone\u001b[39;00m\n\u001b[0;32m    888\u001b[0m     \u001b[39melse\u001b[39;00m:\n\u001b[1;32m--> 889\u001b[0m         \u001b[39mraise\u001b[39;00m \u001b[39mKeyError\u001b[39;00m(gpr)\n\u001b[0;32m    890\u001b[0m \u001b[39melif\u001b[39;00m \u001b[39misinstance\u001b[39m(gpr, Grouper) \u001b[39mand\u001b[39;00m gpr\u001b[39m.\u001b[39mkey \u001b[39mis\u001b[39;00m \u001b[39mnot\u001b[39;00m \u001b[39mNone\u001b[39;00m:\n\u001b[0;32m    891\u001b[0m     \u001b[39m# Add key to exclusions\u001b[39;00m\n\u001b[0;32m    892\u001b[0m     exclusions\u001b[39m.\u001b[39madd(gpr\u001b[39m.\u001b[39mkey)\n",
      "\u001b[1;31mKeyError\u001b[0m: 'TEAM'"
     ]
    }
   ],
   "source": [
    "#q1\n",
    "import pandas as p\n",
    "import matplotlib.pyplot as mat\n",
    "d=p.read_csv(\"https://github.com/flaviovdf/evcomp2018/raw/master/data/nc-est2015-agesex-res.csv\")\n",
    "#print(df)\n",
    "df=p.DataFrame(d)\n",
    "#print(df.size)\n",
    "#print(df.describe())\n",
    "#df.rename(columns={'POPESTIMATE2010':'2010' , 'POPESTIMATE2014':'2014' },inplace=True)\n",
    "#print(df.head(10))\n",
    "#print(df.loc[[15,22],:])\n",
    "#df[\"Change\"]=\"\"\n",
    "#df[\"Population Change\"]=\"\"\n",
    "#df.set_index(\"AGE\", inplace = True)\n",
    "#df.loc[[67,68,69,70,71],[\"2010\",\"2014\"]]\n",
    "#df.plot(kind='scatter',x='AGE',y='SEX')\n",
    "# 2 more left\n",
    "\n",
    "\n",
    "\n",
    "\n"
   ]
  },
  {
   "cell_type": "code",
   "execution_count": 80,
   "metadata": {},
   "outputs": [
    {
     "data": {
      "text/html": [
       "<div>\n",
       "<style scoped>\n",
       "    .dataframe tbody tr th:only-of-type {\n",
       "        vertical-align: middle;\n",
       "    }\n",
       "\n",
       "    .dataframe tbody tr th {\n",
       "        vertical-align: top;\n",
       "    }\n",
       "\n",
       "    .dataframe thead th {\n",
       "        text-align: right;\n",
       "    }\n",
       "</style>\n",
       "<table border=\"1\" class=\"dataframe\">\n",
       "  <thead>\n",
       "    <tr style=\"text-align: right;\">\n",
       "      <th></th>\n",
       "      <th>SALARY</th>\n",
       "    </tr>\n",
       "    <tr>\n",
       "      <th>POSITION</th>\n",
       "      <th></th>\n",
       "    </tr>\n",
       "  </thead>\n",
       "  <tbody>\n",
       "    <tr>\n",
       "      <th>C</th>\n",
       "      <td>6.082913</td>\n",
       "    </tr>\n",
       "    <tr>\n",
       "      <th>PF</th>\n",
       "      <td>4.951344</td>\n",
       "    </tr>\n",
       "    <tr>\n",
       "      <th>PG</th>\n",
       "      <td>5.165487</td>\n",
       "    </tr>\n",
       "    <tr>\n",
       "      <th>SF</th>\n",
       "      <td>5.532675</td>\n",
       "    </tr>\n",
       "    <tr>\n",
       "      <th>SG</th>\n",
       "      <td>3.988195</td>\n",
       "    </tr>\n",
       "  </tbody>\n",
       "</table>\n",
       "</div>"
      ],
      "text/plain": [
       "            SALARY\n",
       "POSITION          \n",
       "C         6.082913\n",
       "PF        4.951344\n",
       "PG        5.165487\n",
       "SF        5.532675\n",
       "SG        3.988195"
      ]
     },
     "execution_count": 80,
     "metadata": {},
     "output_type": "execute_result"
    }
   ],
   "source": [
    "#q2\n",
    "import pandas as p\n",
    "import numpy as np\n",
    "d=p.read_csv(\"https://github.com/flaviovdf/evcomp2018/raw/master/data/nba_salaries.csv\")\n",
    "#print(df)\n",
    "df=p.DataFrame(d)\n",
    "print(df.size)\n",
    "print(df.head(5))\n",
    "print(df.loc[[3,10,22],:])\n",
    "df.sort_values(\"SALARY\")\n",
    "df.sort_values(\"SALARY\",ascending=False)\n",
    "df.sort_values(\"PLAYER\")\n",
    "print(df[\"SALARY\"].head(5))\n",
    "print(df.loc[df['SALARY']>10])\n",
    "df.set_index(\"PLAYER\", inplace = True)\n",
    "df.loc[['Stephen Curry'],'SALARY']\n",
    "print(df.loc[(df['SALARY']>15) & (df['POSITION']=='PG')])\n",
    "df.set_index(\"TEAM\", inplace = True)\n",
    "print(df.loc['Golden State Warriors'])\n",
    "df.groupby('TEAM').sum('SALARY')\n",
    "df.groupby('POSITION').count()\n",
    "df.groupby('POSITION').mean('SALARY')\n",
    "\n"
   ]
  },
  {
   "cell_type": "code",
   "execution_count": 85,
   "metadata": {},
   "outputs": [
    {
     "name": "stdout",
     "output_type": "stream",
     "text": [
      "             Year        Age  Gender          Educational Attainment  \\\n",
      "0     1/1/08 0:00   00 to 17    Male  College, less than 4-yr degree   \n",
      "1     1/1/08 0:00   00 to 17  Female  College, less than 4-yr degree   \n",
      "2     1/1/08 0:00  65 to 80+    Male  College, less than 4-yr degree   \n",
      "3     1/1/08 0:00  65 to 80+  Female          No high school diploma   \n",
      "4     1/1/08 0:00   00 to 17  Female          No high school diploma   \n",
      "...           ...        ...     ...                             ...   \n",
      "1021  1/1/14 0:00   18 to 64  Female       High school or equivalent   \n",
      "1022  1/1/14 0:00   18 to 64    Male     Bachelor's degree or higher   \n",
      "1023  1/1/14 0:00   18 to 64  Female          No high school diploma   \n",
      "1024  1/1/14 0:00   18 to 64  Female     Bachelor's degree or higher   \n",
      "1025  1/1/14 0:00   18 to 64    Male     Bachelor's degree or higher   \n",
      "\n",
      "          Personal Income  Population Count  \n",
      "0     C: 10,000 to 14,999              1304  \n",
      "1       B: 5,000 to 9,999              1565  \n",
      "2           A: 0 to 4,999              1923  \n",
      "3      H: 75,000 and over              1981  \n",
      "4     D: 15,000 to 24,999              2009  \n",
      "...                   ...               ...  \n",
      "1021        A: 0 to 4,999            670294  \n",
      "1022  G: 50,000 to 74,999            682425  \n",
      "1023        A: 0 to 4,999            723208  \n",
      "1024   H: 75,000 and over            953282  \n",
      "1025   H: 75,000 and over           1628605  \n",
      "\n",
      "[1026 rows x 6 columns]\n"
     ]
    }
   ],
   "source": [
    "#q3\n",
    "import pandas as p\n",
    "import matplotlib.pyplot as mat\n",
    "d=p.read_csv(\"https://github.com/flaviovdf/evcomp2018/raw/master/data/educ_inc.csv\")\n",
    "df=p.DataFrame(d)\n",
    "print(df)\n",
    "#df.groupby('Educational Attainment').sum('Population Count')\n"
   ]
  }
 ],
 "metadata": {
  "kernelspec": {
   "display_name": "Python 3.10.6 64-bit",
   "language": "python",
   "name": "python3"
  },
  "language_info": {
   "codemirror_mode": {
    "name": "ipython",
    "version": 3
   },
   "file_extension": ".py",
   "mimetype": "text/x-python",
   "name": "python",
   "nbconvert_exporter": "python",
   "pygments_lexer": "ipython3",
   "version": "3.10.6"
  },
  "orig_nbformat": 4,
  "vscode": {
   "interpreter": {
    "hash": "1fc6cdba2313ca76ddadfdbd52b2b5b4b74121cc141d4b1ca839c1e7fe1edd9b"
   }
  }
 },
 "nbformat": 4,
 "nbformat_minor": 2
}
